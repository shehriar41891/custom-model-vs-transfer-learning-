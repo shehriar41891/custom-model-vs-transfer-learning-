{
  "cells": [
    {
      "cell_type": "markdown",
      "metadata": {
        "id": "view-in-github",
        "colab_type": "text"
      },
      "source": [
        "<a href=\"https://colab.research.google.com/github/shehriar41891/custom-model-vs-transfer-learning-/blob/main/Untitled1.ipynb\" target=\"_parent\"><img src=\"https://colab.research.google.com/assets/colab-badge.svg\" alt=\"Open In Colab\"/></a>"
      ]
    },
    {
      "cell_type": "code",
      "execution_count": 1,
      "metadata": {
        "id": "icuSNBNajCt8"
      },
      "outputs": [],
      "source": [
        "import tensorflow as tf\n",
        "import keras"
      ]
    },
    {
      "cell_type": "markdown",
      "metadata": {
        "id": "1D7n_rjvjot9"
      },
      "source": [
        "# Kaggle Initail Set up for data download"
      ]
    },
    {
      "cell_type": "code",
      "execution_count": 2,
      "metadata": {
        "id": "y2WUk6NqjM7K"
      },
      "outputs": [],
      "source": [
        "!pip install -q kaggle"
      ]
    },
    {
      "cell_type": "code",
      "execution_count": 3,
      "metadata": {
        "id": "-tPp45onjUlv"
      },
      "outputs": [],
      "source": [
        "from google.colab import files"
      ]
    },
    {
      "cell_type": "code",
      "execution_count": 4,
      "metadata": {
        "colab": {
          "base_uri": "https://localhost:8080/",
          "height": 90
        },
        "id": "8TiiwKr6jfOM",
        "outputId": "7d51593e-7d57-4ae5-81eb-f99c5a1670f6"
      },
      "outputs": [
        {
          "output_type": "display_data",
          "data": {
            "text/plain": [
              "<IPython.core.display.HTML object>"
            ],
            "text/html": [
              "\n",
              "     <input type=\"file\" id=\"files-25a4918d-58f5-42f8-b480-94fc53d37f34\" name=\"files[]\" multiple disabled\n",
              "        style=\"border:none\" />\n",
              "     <output id=\"result-25a4918d-58f5-42f8-b480-94fc53d37f34\">\n",
              "      Upload widget is only available when the cell has been executed in the\n",
              "      current browser session. Please rerun this cell to enable.\n",
              "      </output>\n",
              "      <script>// Copyright 2017 Google LLC\n",
              "//\n",
              "// Licensed under the Apache License, Version 2.0 (the \"License\");\n",
              "// you may not use this file except in compliance with the License.\n",
              "// You may obtain a copy of the License at\n",
              "//\n",
              "//      http://www.apache.org/licenses/LICENSE-2.0\n",
              "//\n",
              "// Unless required by applicable law or agreed to in writing, software\n",
              "// distributed under the License is distributed on an \"AS IS\" BASIS,\n",
              "// WITHOUT WARRANTIES OR CONDITIONS OF ANY KIND, either express or implied.\n",
              "// See the License for the specific language governing permissions and\n",
              "// limitations under the License.\n",
              "\n",
              "/**\n",
              " * @fileoverview Helpers for google.colab Python module.\n",
              " */\n",
              "(function(scope) {\n",
              "function span(text, styleAttributes = {}) {\n",
              "  const element = document.createElement('span');\n",
              "  element.textContent = text;\n",
              "  for (const key of Object.keys(styleAttributes)) {\n",
              "    element.style[key] = styleAttributes[key];\n",
              "  }\n",
              "  return element;\n",
              "}\n",
              "\n",
              "// Max number of bytes which will be uploaded at a time.\n",
              "const MAX_PAYLOAD_SIZE = 100 * 1024;\n",
              "\n",
              "function _uploadFiles(inputId, outputId) {\n",
              "  const steps = uploadFilesStep(inputId, outputId);\n",
              "  const outputElement = document.getElementById(outputId);\n",
              "  // Cache steps on the outputElement to make it available for the next call\n",
              "  // to uploadFilesContinue from Python.\n",
              "  outputElement.steps = steps;\n",
              "\n",
              "  return _uploadFilesContinue(outputId);\n",
              "}\n",
              "\n",
              "// This is roughly an async generator (not supported in the browser yet),\n",
              "// where there are multiple asynchronous steps and the Python side is going\n",
              "// to poll for completion of each step.\n",
              "// This uses a Promise to block the python side on completion of each step,\n",
              "// then passes the result of the previous step as the input to the next step.\n",
              "function _uploadFilesContinue(outputId) {\n",
              "  const outputElement = document.getElementById(outputId);\n",
              "  const steps = outputElement.steps;\n",
              "\n",
              "  const next = steps.next(outputElement.lastPromiseValue);\n",
              "  return Promise.resolve(next.value.promise).then((value) => {\n",
              "    // Cache the last promise value to make it available to the next\n",
              "    // step of the generator.\n",
              "    outputElement.lastPromiseValue = value;\n",
              "    return next.value.response;\n",
              "  });\n",
              "}\n",
              "\n",
              "/**\n",
              " * Generator function which is called between each async step of the upload\n",
              " * process.\n",
              " * @param {string} inputId Element ID of the input file picker element.\n",
              " * @param {string} outputId Element ID of the output display.\n",
              " * @return {!Iterable<!Object>} Iterable of next steps.\n",
              " */\n",
              "function* uploadFilesStep(inputId, outputId) {\n",
              "  const inputElement = document.getElementById(inputId);\n",
              "  inputElement.disabled = false;\n",
              "\n",
              "  const outputElement = document.getElementById(outputId);\n",
              "  outputElement.innerHTML = '';\n",
              "\n",
              "  const pickedPromise = new Promise((resolve) => {\n",
              "    inputElement.addEventListener('change', (e) => {\n",
              "      resolve(e.target.files);\n",
              "    });\n",
              "  });\n",
              "\n",
              "  const cancel = document.createElement('button');\n",
              "  inputElement.parentElement.appendChild(cancel);\n",
              "  cancel.textContent = 'Cancel upload';\n",
              "  const cancelPromise = new Promise((resolve) => {\n",
              "    cancel.onclick = () => {\n",
              "      resolve(null);\n",
              "    };\n",
              "  });\n",
              "\n",
              "  // Wait for the user to pick the files.\n",
              "  const files = yield {\n",
              "    promise: Promise.race([pickedPromise, cancelPromise]),\n",
              "    response: {\n",
              "      action: 'starting',\n",
              "    }\n",
              "  };\n",
              "\n",
              "  cancel.remove();\n",
              "\n",
              "  // Disable the input element since further picks are not allowed.\n",
              "  inputElement.disabled = true;\n",
              "\n",
              "  if (!files) {\n",
              "    return {\n",
              "      response: {\n",
              "        action: 'complete',\n",
              "      }\n",
              "    };\n",
              "  }\n",
              "\n",
              "  for (const file of files) {\n",
              "    const li = document.createElement('li');\n",
              "    li.append(span(file.name, {fontWeight: 'bold'}));\n",
              "    li.append(span(\n",
              "        `(${file.type || 'n/a'}) - ${file.size} bytes, ` +\n",
              "        `last modified: ${\n",
              "            file.lastModifiedDate ? file.lastModifiedDate.toLocaleDateString() :\n",
              "                                    'n/a'} - `));\n",
              "    const percent = span('0% done');\n",
              "    li.appendChild(percent);\n",
              "\n",
              "    outputElement.appendChild(li);\n",
              "\n",
              "    const fileDataPromise = new Promise((resolve) => {\n",
              "      const reader = new FileReader();\n",
              "      reader.onload = (e) => {\n",
              "        resolve(e.target.result);\n",
              "      };\n",
              "      reader.readAsArrayBuffer(file);\n",
              "    });\n",
              "    // Wait for the data to be ready.\n",
              "    let fileData = yield {\n",
              "      promise: fileDataPromise,\n",
              "      response: {\n",
              "        action: 'continue',\n",
              "      }\n",
              "    };\n",
              "\n",
              "    // Use a chunked sending to avoid message size limits. See b/62115660.\n",
              "    let position = 0;\n",
              "    do {\n",
              "      const length = Math.min(fileData.byteLength - position, MAX_PAYLOAD_SIZE);\n",
              "      const chunk = new Uint8Array(fileData, position, length);\n",
              "      position += length;\n",
              "\n",
              "      const base64 = btoa(String.fromCharCode.apply(null, chunk));\n",
              "      yield {\n",
              "        response: {\n",
              "          action: 'append',\n",
              "          file: file.name,\n",
              "          data: base64,\n",
              "        },\n",
              "      };\n",
              "\n",
              "      let percentDone = fileData.byteLength === 0 ?\n",
              "          100 :\n",
              "          Math.round((position / fileData.byteLength) * 100);\n",
              "      percent.textContent = `${percentDone}% done`;\n",
              "\n",
              "    } while (position < fileData.byteLength);\n",
              "  }\n",
              "\n",
              "  // All done.\n",
              "  yield {\n",
              "    response: {\n",
              "      action: 'complete',\n",
              "    }\n",
              "  };\n",
              "}\n",
              "\n",
              "scope.google = scope.google || {};\n",
              "scope.google.colab = scope.google.colab || {};\n",
              "scope.google.colab._files = {\n",
              "  _uploadFiles,\n",
              "  _uploadFilesContinue,\n",
              "};\n",
              "})(self);\n",
              "</script> "
            ]
          },
          "metadata": {}
        },
        {
          "output_type": "stream",
          "name": "stdout",
          "text": [
            "Saving kaggle (1).json to kaggle (1).json\n"
          ]
        },
        {
          "output_type": "execute_result",
          "data": {
            "text/plain": [
              "{'kaggle (1).json': b'{\"username\":\"shehriaralikhan\",\"key\":\"74d41d4df0882d29a33fe2d3bb5e1c99\"}'}"
            ]
          },
          "metadata": {},
          "execution_count": 4
        }
      ],
      "source": [
        "files.upload()"
      ]
    },
    {
      "cell_type": "code",
      "execution_count": 5,
      "metadata": {
        "id": "TXrpFWcqj-6_"
      },
      "outputs": [],
      "source": [
        "!mkdir ~/.kaggle"
      ]
    },
    {
      "cell_type": "code",
      "execution_count": 6,
      "metadata": {
        "colab": {
          "base_uri": "https://localhost:8080/"
        },
        "id": "LZjpw5sIkFAD",
        "outputId": "ccea1568-36e1-4c65-c08f-28d3bf6ac2e5"
      },
      "outputs": [
        {
          "output_type": "stream",
          "name": "stdout",
          "text": [
            "Dataset URL: https://www.kaggle.com/datasets/vuppalaadithyasairam/ultrasound-breast-images-for-breast-cancer\n",
            "License(s): CC0-1.0\n",
            "Downloading ultrasound-breast-images-for-breast-cancer.zip to /content\n",
            " 98% 555M/564M [00:03<00:00, 160MB/s]\n",
            "100% 564M/564M [00:03<00:00, 149MB/s]\n"
          ]
        }
      ],
      "source": [
        "!kaggle datasets download -d vuppalaadithyasairam/ultrasound-breast-images-for-breast-cancer"
      ]
    },
    {
      "cell_type": "code",
      "execution_count": 7,
      "metadata": {
        "id": "iHmkpSv1kKC6"
      },
      "outputs": [],
      "source": [
        "!unzip -q /content/ultrasound-breast-images-for-breast-cancer.zip"
      ]
    },
    {
      "cell_type": "code",
      "execution_count": 7,
      "metadata": {
        "id": "ktjMMKaPkP03"
      },
      "outputs": [],
      "source": []
    },
    {
      "cell_type": "markdown",
      "metadata": {
        "id": "rqv8wnevkkls"
      },
      "source": [
        "# Setting the Dataset into training and validation"
      ]
    },
    {
      "cell_type": "code",
      "execution_count": 3,
      "metadata": {
        "colab": {
          "base_uri": "https://localhost:8080/"
        },
        "id": "LE7wRef_kpkl",
        "outputId": "f7e6ebd0-7ce1-46be-c805-f28cc37527f0"
      },
      "outputs": [
        {
          "output_type": "stream",
          "name": "stdout",
          "text": [
            "Found 8116 files belonging to 2 classes.\n",
            "Found 900 files belonging to 2 classes.\n"
          ]
        }
      ],
      "source": [
        "# setting the training data\n",
        "training_data = keras.utils.image_dataset_from_directory(\n",
        "    directory = '/content/ultrasound breast classification/train',\n",
        "    label_mode = 'int',\n",
        "    batch_size = 32,\n",
        "    image_size = (256,256)\n",
        ")\n",
        "\n",
        "#setting the validation data\n",
        "validation_data = keras.utils.image_dataset_from_directory(\n",
        "    directory = '/content/ultrasound breast classification/val',\n",
        "    label_mode = 'int',\n",
        "    batch_size = 32,\n",
        "    image_size = (256,256)\n",
        ")"
      ]
    },
    {
      "cell_type": "markdown",
      "metadata": {
        "id": "Et6nKO2Ill9A"
      },
      "source": [
        "# Creating Custom Model using keras tuner"
      ]
    },
    {
      "cell_type": "code",
      "execution_count": 4,
      "metadata": {
        "id": "KWmiOH2pmQbE"
      },
      "outputs": [],
      "source": [
        "!pip -q install keras-tuner"
      ]
    },
    {
      "cell_type": "code",
      "execution_count": 5,
      "metadata": {
        "colab": {
          "base_uri": "https://localhost:8080/"
        },
        "id": "qQxtShvYlVzg",
        "outputId": "1319f563-5228-4c93-cfd0-bd073a026d2d"
      },
      "outputs": [
        {
          "output_type": "stream",
          "name": "stderr",
          "text": [
            "<ipython-input-5-fa15721887e7>:3: DeprecationWarning: `import kerastuner` is deprecated, please use `import keras_tuner`.\n",
            "  from kerastuner.tuners import RandomSearch\n"
          ]
        }
      ],
      "source": [
        "from keras.models import Sequential\n",
        "from keras.layers import Conv2D,MaxPooling2D,Flatten,Dense,BatchNormalization,Dropout\n",
        "from kerastuner.tuners import RandomSearch"
      ]
    },
    {
      "cell_type": "code",
      "execution_count": 6,
      "metadata": {
        "id": "v_hjpl3fmCU7"
      },
      "outputs": [],
      "source": [
        "def build_model(hp):\n",
        "  model = Sequential()\n",
        "\n",
        "  for i in range(hp.Int('conv_num_layer', 1,10)):\n",
        "    model.add(Conv2D(\n",
        "              filters =  hp.Int(f'conv_layer{i}',min_value=32,max_value=128,step=16),\n",
        "              kernel_size = (2,2),\n",
        "              strides = (2,2),\n",
        "              padding = 'same',\n",
        "              activation = hp.Choice(f'activation{i}',values = ['sigmoid','relu','tanh']\n",
        "                )\n",
        "              )\n",
        "            )\n",
        "    model.add(MaxPooling2D(pool_size=(1,1)))\n",
        "    model.add(BatchNormalization())\n",
        "\n",
        "  # add the flatten layer\n",
        "  model.add(Flatten())\n",
        "\n",
        "  # add dense layer now\n",
        "  for i in range(hp.Int('dense_num_layer',1,10)):\n",
        "    model.add(Dense(\n",
        "                     units = hp.Int(f'dense_layer{i}',min_value = 32,max_value = 512,step=32),\n",
        "                     activation = hp.Choice(f'dense_activation_{i}',values = ['sigmoid','tanh','relu']\n",
        "                      )\n",
        "                  )\n",
        "              )\n",
        "    model.add(Dropout(0.3))\n",
        "  # add the output layer here\n",
        "  model.add(Dense(1,activation='sigmoid'))\n",
        "\n",
        "  # compile the model\n",
        "  optimizer = hp.Choice('optimizer',values=['rmsprop','adam','sgd'])\n",
        "  model.compile(optimizer=optimizer,loss='binary_crossentropy',metrics=['accuracy'])\n",
        "\n",
        "  #return the model\n",
        "  return model"
      ]
    },
    {
      "cell_type": "code",
      "execution_count": 7,
      "metadata": {
        "id": "oK4_fP1_q6WV"
      },
      "outputs": [],
      "source": [
        "tuner = RandomSearch(\n",
        "    build_model,\n",
        "    objective = 'val_accuracy',\n",
        "    max_trials = 1,\n",
        "    directory = '/content/history_of_model',\n",
        "    project_name = 'first_observation'\n",
        ")"
      ]
    },
    {
      "cell_type": "code",
      "execution_count": 9,
      "metadata": {
        "colab": {
          "base_uri": "https://localhost:8080/"
        },
        "id": "cbJHtINUrr2C",
        "outputId": "40924d18-424e-459a-d4dc-793d1ee79e2b"
      },
      "outputs": [
        {
          "output_type": "stream",
          "name": "stdout",
          "text": [
            "Trial 1 Complete [00h 02m 16s]\n",
            "val_accuracy: 0.6100000143051147\n",
            "\n",
            "Best val_accuracy So Far: 0.6100000143051147\n",
            "Total elapsed time: 00h 02m 16s\n"
          ]
        }
      ],
      "source": [
        "tuner.search(training_data,validation_data = validation_data,epochs=1)"
      ]
    },
    {
      "cell_type": "code",
      "execution_count": 10,
      "metadata": {
        "id": "9cmWsNxdsloK"
      },
      "outputs": [],
      "source": [
        "best_hp = tuner.get_best_hyperparameters(num_trials=1)[0]"
      ]
    },
    {
      "cell_type": "code",
      "execution_count": 11,
      "metadata": {
        "colab": {
          "base_uri": "https://localhost:8080/"
        },
        "id": "YRzSa5Re2V-I",
        "outputId": "63bdacc3-7389-4d9d-8d8a-10d5da2c7fb3"
      },
      "outputs": [
        {
          "output_type": "stream",
          "name": "stdout",
          "text": [
            "Best Hyperparameter\n",
            "{'conv_num_layer': 10, 'conv_layer0': 32, 'activation0': 'tanh', 'dense_num_layer': 2, 'dense_layer0': 256, 'dense_activation_0': 'sigmoid', 'optimizer': 'adam', 'conv_layer1': 32, 'activation1': 'sigmoid', 'conv_layer2': 32, 'activation2': 'sigmoid', 'conv_layer3': 32, 'activation3': 'sigmoid', 'conv_layer4': 32, 'activation4': 'sigmoid', 'conv_layer5': 32, 'activation5': 'sigmoid', 'conv_layer6': 32, 'activation6': 'sigmoid', 'conv_layer7': 32, 'activation7': 'sigmoid', 'conv_layer8': 32, 'activation8': 'sigmoid', 'conv_layer9': 32, 'activation9': 'sigmoid', 'dense_layer1': 32, 'dense_activation_1': 'sigmoid'}\n"
          ]
        }
      ],
      "source": [
        "print('Best Hyperparameter')\n",
        "print(best_hp.values)"
      ]
    },
    {
      "cell_type": "code",
      "execution_count": 12,
      "metadata": {
        "id": "cIo32txm2eKM"
      },
      "outputs": [],
      "source": [
        "best_model = tuner.hypermodel.build(best_hp)"
      ]
    },
    {
      "cell_type": "code",
      "execution_count": 14,
      "metadata": {
        "colab": {
          "base_uri": "https://localhost:8080/"
        },
        "id": "oISiMtKJ3D27",
        "outputId": "274b8ca9-fc88-446a-8951-9db532f7328b"
      },
      "outputs": [
        {
          "output_type": "stream",
          "name": "stdout",
          "text": [
            "254/254 [==============================] - 27s 101ms/step - loss: 0.5097 - accuracy: 0.7605 - val_loss: 0.6420 - val_accuracy: 0.6567\n"
          ]
        },
        {
          "output_type": "execute_result",
          "data": {
            "text/plain": [
              "<keras.src.callbacks.History at 0x7a481552b880>"
            ]
          },
          "metadata": {},
          "execution_count": 14
        }
      ],
      "source": [
        "best_model.fit(training_data,validation_data = validation_data,epochs=1)"
      ]
    },
    {
      "cell_type": "code",
      "execution_count": 14,
      "metadata": {
        "id": "NfYIg-iT3Mev"
      },
      "outputs": [],
      "source": []
    },
    {
      "cell_type": "markdown",
      "metadata": {
        "id": "UWysdbBZmdLL"
      },
      "source": [
        "# Transfer Learning with VGG16"
      ]
    },
    {
      "cell_type": "code",
      "execution_count": 15,
      "metadata": {
        "id": "8VYBWecXmhJb"
      },
      "outputs": [],
      "source": [
        "from tensorflow.keras.applications import VGG16"
      ]
    },
    {
      "cell_type": "code",
      "execution_count": 16,
      "metadata": {
        "id": "pcZs8eywm2gH"
      },
      "outputs": [],
      "source": [
        "base_model = VGG16(\n",
        "    weights = 'imagenet',\n",
        "    include_top = False,\n",
        "    input_shape = (256,256,3)\n",
        ")"
      ]
    },
    {
      "cell_type": "code",
      "execution_count": 17,
      "metadata": {
        "colab": {
          "base_uri": "https://localhost:8080/"
        },
        "id": "i-MZfXwznDCi",
        "outputId": "6d62a20a-664e-4c01-db8d-f4aec921494e"
      },
      "outputs": [
        {
          "output_type": "stream",
          "name": "stdout",
          "text": [
            "Model: \"vgg16\"\n",
            "_________________________________________________________________\n",
            " Layer (type)                Output Shape              Param #   \n",
            "=================================================================\n",
            " input_1 (InputLayer)        [(None, 256, 256, 3)]     0         \n",
            "                                                                 \n",
            " block1_conv1 (Conv2D)       (None, 256, 256, 64)      1792      \n",
            "                                                                 \n",
            " block1_conv2 (Conv2D)       (None, 256, 256, 64)      36928     \n",
            "                                                                 \n",
            " block1_pool (MaxPooling2D)  (None, 128, 128, 64)      0         \n",
            "                                                                 \n",
            " block2_conv1 (Conv2D)       (None, 128, 128, 128)     73856     \n",
            "                                                                 \n",
            " block2_conv2 (Conv2D)       (None, 128, 128, 128)     147584    \n",
            "                                                                 \n",
            " block2_pool (MaxPooling2D)  (None, 64, 64, 128)       0         \n",
            "                                                                 \n",
            " block3_conv1 (Conv2D)       (None, 64, 64, 256)       295168    \n",
            "                                                                 \n",
            " block3_conv2 (Conv2D)       (None, 64, 64, 256)       590080    \n",
            "                                                                 \n",
            " block3_conv3 (Conv2D)       (None, 64, 64, 256)       590080    \n",
            "                                                                 \n",
            " block3_pool (MaxPooling2D)  (None, 32, 32, 256)       0         \n",
            "                                                                 \n",
            " block4_conv1 (Conv2D)       (None, 32, 32, 512)       1180160   \n",
            "                                                                 \n",
            " block4_conv2 (Conv2D)       (None, 32, 32, 512)       2359808   \n",
            "                                                                 \n",
            " block4_conv3 (Conv2D)       (None, 32, 32, 512)       2359808   \n",
            "                                                                 \n",
            " block4_pool (MaxPooling2D)  (None, 16, 16, 512)       0         \n",
            "                                                                 \n",
            " block5_conv1 (Conv2D)       (None, 16, 16, 512)       2359808   \n",
            "                                                                 \n",
            " block5_conv2 (Conv2D)       (None, 16, 16, 512)       2359808   \n",
            "                                                                 \n",
            " block5_conv3 (Conv2D)       (None, 16, 16, 512)       2359808   \n",
            "                                                                 \n",
            " block5_pool (MaxPooling2D)  (None, 8, 8, 512)         0         \n",
            "                                                                 \n",
            "=================================================================\n",
            "Total params: 14714688 (56.13 MB)\n",
            "Trainable params: 14714688 (56.13 MB)\n",
            "Non-trainable params: 0 (0.00 Byte)\n",
            "_________________________________________________________________\n"
          ]
        }
      ],
      "source": [
        "base_model.summary()"
      ]
    },
    {
      "cell_type": "code",
      "execution_count": 29,
      "metadata": {
        "id": "KnhEXxxHnIKW"
      },
      "outputs": [],
      "source": [
        "base_model.trainable = True\n",
        "set_trainable = False\n",
        "\n",
        "layer_names = ['block3_conv1','block4_conv1', 'block5_conv1']\n",
        "\n",
        "for layer in base_model.layers:\n",
        "    if layer.name in layer_names:\n",
        "        set_trainable = True\n",
        "    if set_trainable:\n",
        "        layer.trainable = True\n",
        "    else:\n",
        "        layer.trainable = False"
      ]
    },
    {
      "cell_type": "code",
      "execution_count": 30,
      "metadata": {
        "colab": {
          "base_uri": "https://localhost:8080/"
        },
        "id": "Kcrrjrtfn4xt",
        "outputId": "c9f36486-3e91-4d73-f377-c635e356e253"
      },
      "outputs": [
        {
          "output_type": "stream",
          "name": "stdout",
          "text": [
            "Model: \"vgg16\"\n",
            "_________________________________________________________________\n",
            " Layer (type)                Output Shape              Param #   \n",
            "=================================================================\n",
            " input_1 (InputLayer)        [(None, 256, 256, 3)]     0         \n",
            "                                                                 \n",
            " block1_conv1 (Conv2D)       (None, 256, 256, 64)      1792      \n",
            "                                                                 \n",
            " block1_conv2 (Conv2D)       (None, 256, 256, 64)      36928     \n",
            "                                                                 \n",
            " block1_pool (MaxPooling2D)  (None, 128, 128, 64)      0         \n",
            "                                                                 \n",
            " block2_conv1 (Conv2D)       (None, 128, 128, 128)     73856     \n",
            "                                                                 \n",
            " block2_conv2 (Conv2D)       (None, 128, 128, 128)     147584    \n",
            "                                                                 \n",
            " block2_pool (MaxPooling2D)  (None, 64, 64, 128)       0         \n",
            "                                                                 \n",
            " block3_conv1 (Conv2D)       (None, 64, 64, 256)       295168    \n",
            "                                                                 \n",
            " block3_conv2 (Conv2D)       (None, 64, 64, 256)       590080    \n",
            "                                                                 \n",
            " block3_conv3 (Conv2D)       (None, 64, 64, 256)       590080    \n",
            "                                                                 \n",
            " block3_pool (MaxPooling2D)  (None, 32, 32, 256)       0         \n",
            "                                                                 \n",
            " block4_conv1 (Conv2D)       (None, 32, 32, 512)       1180160   \n",
            "                                                                 \n",
            " block4_conv2 (Conv2D)       (None, 32, 32, 512)       2359808   \n",
            "                                                                 \n",
            " block4_conv3 (Conv2D)       (None, 32, 32, 512)       2359808   \n",
            "                                                                 \n",
            " block4_pool (MaxPooling2D)  (None, 16, 16, 512)       0         \n",
            "                                                                 \n",
            " block5_conv1 (Conv2D)       (None, 16, 16, 512)       2359808   \n",
            "                                                                 \n",
            " block5_conv2 (Conv2D)       (None, 16, 16, 512)       2359808   \n",
            "                                                                 \n",
            " block5_conv3 (Conv2D)       (None, 16, 16, 512)       2359808   \n",
            "                                                                 \n",
            " block5_pool (MaxPooling2D)  (None, 8, 8, 512)         0         \n",
            "                                                                 \n",
            "=================================================================\n",
            "Total params: 14714688 (56.13 MB)\n",
            "Trainable params: 14454528 (55.14 MB)\n",
            "Non-trainable params: 260160 (1016.25 KB)\n",
            "_________________________________________________________________\n"
          ]
        }
      ],
      "source": [
        "base_model.summary()"
      ]
    },
    {
      "cell_type": "code",
      "execution_count": 31,
      "metadata": {
        "id": "RUz1_8Tdn7kh"
      },
      "outputs": [],
      "source": [
        "from keras.models import Sequential\n",
        "from keras.layers import Dense,Flatten"
      ]
    },
    {
      "cell_type": "code",
      "execution_count": 49,
      "metadata": {
        "id": "lKmC4biNoLEw"
      },
      "outputs": [],
      "source": [
        "def build_model2(hp):\n",
        "  # initiate the model\n",
        "  model = Sequential()\n",
        "  # add the base model\n",
        "  model.add(base_model)\n",
        "\n",
        "  model.add(Flatten()) #add flatten layer to flatten the data from the previous layer\n",
        "\n",
        "  for i in range(hp.Int('Dense_layer_num',min_value = 1,max_value = 10)):\n",
        "    model.add(\n",
        "        Dense(units = hp.Int(f'layer_{i}',min_value = 32,max_value = 512,step = 32),\n",
        "        activation = hp.Choice(f'activation_{i}',values=['relu','sigmoid','tanh'])\n",
        "        )\n",
        "    )\n",
        "\n",
        "  model.add(Dense(1,activation='sigmoid'))\n",
        "\n",
        "  optimizer = hp.Choice('optimizer',values = ['rmsprop','adam','sgd'])\n",
        "\n",
        "  model.compile(optimizer = optimizer,loss = 'binary_crossentropy',metrics = ['accuracy'])\n",
        "\n",
        "  return model # return the compiled model\n",
        "\n"
      ]
    },
    {
      "cell_type": "code",
      "execution_count": 50,
      "metadata": {
        "id": "2HGOfL1rrIZc",
        "colab": {
          "base_uri": "https://localhost:8080/"
        },
        "outputId": "131412a7-28bd-47f1-874d-e62f741ee7e9"
      },
      "outputs": [
        {
          "output_type": "stream",
          "name": "stdout",
          "text": [
            "Reloading Tuner from ./untitled_project/tuner0.json\n"
          ]
        }
      ],
      "source": [
        "tuner2 = RandomSearch(\n",
        "    build_model2,\n",
        "    objective = 'val_accuracy',\n",
        "    max_trials = 1,\n",
        ")"
      ]
    },
    {
      "cell_type": "code",
      "execution_count": 51,
      "metadata": {
        "id": "Ew7rC1S5rY9n"
      },
      "outputs": [],
      "source": [
        "tuner2.search(training_data,validation_data = validation_data,epochs=10)"
      ]
    },
    {
      "cell_type": "code",
      "execution_count": 52,
      "metadata": {
        "id": "Fen3X6earkw7"
      },
      "outputs": [],
      "source": [
        "best_hp2 = tuner2.get_best_hyperparameters(num_trials=1)[0]"
      ]
    },
    {
      "cell_type": "code",
      "execution_count": 53,
      "metadata": {
        "id": "c5O8a873ryeo"
      },
      "outputs": [],
      "source": [
        "best_model2 = tuner2.hypermodel.build(best_hp2)"
      ]
    },
    {
      "cell_type": "code",
      "source": [
        "best_hp2.values"
      ],
      "metadata": {
        "colab": {
          "base_uri": "https://localhost:8080/"
        },
        "id": "EQWtaVKauS91",
        "outputId": "9b00de6b-0a34-44ec-f05f-b4a322136527"
      },
      "execution_count": 54,
      "outputs": [
        {
          "output_type": "execute_result",
          "data": {
            "text/plain": [
              "{'Dense_num_layer': 3,\n",
              " 'layer_0': 32,\n",
              " 'activation_0': 'sigmoid',\n",
              " 'optimizer': 'rmsprop',\n",
              " 'Dense_layer_num': 1}"
            ]
          },
          "metadata": {},
          "execution_count": 54
        }
      ]
    },
    {
      "cell_type": "code",
      "execution_count": 55,
      "metadata": {
        "id": "cWG45NjFp8a0"
      },
      "outputs": [],
      "source": [
        "from keras.callbacks import EarlyStopping"
      ]
    },
    {
      "cell_type": "code",
      "execution_count": 56,
      "metadata": {
        "id": "xF2z8byxqbRd"
      },
      "outputs": [],
      "source": [
        "early_stopping = EarlyStopping(\n",
        "    monitor = 'val_accuracy',\n",
        "    patience = 3,\n",
        "    restore_best_weights = True\n",
        ")"
      ]
    },
    {
      "cell_type": "code",
      "execution_count": 57,
      "metadata": {
        "id": "Wk7zC_hgqsMV",
        "colab": {
          "base_uri": "https://localhost:8080/"
        },
        "outputId": "a3c5f215-b6f9-4c7e-ce39-1dc77f4ce7a4"
      },
      "outputs": [
        {
          "output_type": "stream",
          "name": "stdout",
          "text": [
            "Epoch 1/10\n",
            "254/254 [==============================] - 144s 385ms/step - loss: 0.7828 - accuracy: 0.5042 - val_loss: 0.6961 - val_accuracy: 0.4444\n",
            "Epoch 2/10\n",
            "254/254 [==============================] - 87s 339ms/step - loss: 0.6936 - accuracy: 0.5011 - val_loss: 0.6968 - val_accuracy: 0.4444\n",
            "Epoch 3/10\n",
            "254/254 [==============================] - 87s 341ms/step - loss: 0.6937 - accuracy: 0.5034 - val_loss: 0.6921 - val_accuracy: 0.5556\n",
            "Epoch 4/10\n",
            "254/254 [==============================] - 87s 341ms/step - loss: 0.6937 - accuracy: 0.4951 - val_loss: 0.6939 - val_accuracy: 0.4444\n",
            "Epoch 5/10\n",
            "254/254 [==============================] - 92s 362ms/step - loss: 0.6936 - accuracy: 0.5021 - val_loss: 0.6929 - val_accuracy: 0.5556\n",
            "Epoch 6/10\n",
            "254/254 [==============================] - 87s 342ms/step - loss: 0.6937 - accuracy: 0.5011 - val_loss: 0.6951 - val_accuracy: 0.4444\n"
          ]
        }
      ],
      "source": [
        "history = best_model2.fit(training_data,validation_data = validation_data,epochs = 10,callbacks=[early_stopping])"
      ]
    }
  ],
  "metadata": {
    "accelerator": "GPU",
    "colab": {
      "gpuType": "T4",
      "provenance": [],
      "mount_file_id": "1YIX_ObKY2D4KI7h6UybrKFVeH9ovpLj_",
      "authorship_tag": "ABX9TyMQ2rDUFE/nO267Z6wvNqYt",
      "include_colab_link": true
    },
    "kernelspec": {
      "display_name": "Python 3",
      "name": "python3"
    },
    "language_info": {
      "name": "python"
    }
  },
  "nbformat": 4,
  "nbformat_minor": 0
}