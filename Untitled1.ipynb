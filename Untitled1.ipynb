{
  "nbformat": 4,
  "nbformat_minor": 0,
  "metadata": {
    "colab": {
      "provenance": [],
      "gpuType": "T4",
      "mount_file_id": "1YIX_ObKY2D4KI7h6UybrKFVeH9ovpLj_",
      "authorship_tag": "ABX9TyMBGhsX51Kn6n5FDLcA4giD",
      "include_colab_link": true
    },
    "kernelspec": {
      "name": "python3",
      "display_name": "Python 3"
    },
    "language_info": {
      "name": "python"
    },
    "accelerator": "GPU"
  },
  "cells": [
    {
      "cell_type": "markdown",
      "metadata": {
        "id": "view-in-github",
        "colab_type": "text"
      },
      "source": [
        "<a href=\"https://colab.research.google.com/github/shehriar41891/custom-model-vs-transfer-learning-/blob/main/Untitled1.ipynb\" target=\"_parent\"><img src=\"https://colab.research.google.com/assets/colab-badge.svg\" alt=\"Open In Colab\"/></a>"
      ]
    },
    {
      "cell_type": "code",
      "execution_count": 1,
      "metadata": {
        "id": "icuSNBNajCt8"
      },
      "outputs": [],
      "source": [
        "import tensorflow as tf\n",
        "import keras"
      ]
    },
    {
      "cell_type": "markdown",
      "source": [
        "# Kaggle Initail Set up for data download"
      ],
      "metadata": {
        "id": "1D7n_rjvjot9"
      }
    },
    {
      "cell_type": "code",
      "source": [
        "!pip install -q kaggle"
      ],
      "metadata": {
        "id": "y2WUk6NqjM7K"
      },
      "execution_count": 2,
      "outputs": []
    },
    {
      "cell_type": "code",
      "source": [
        "from google.colab import files"
      ],
      "metadata": {
        "id": "-tPp45onjUlv"
      },
      "execution_count": 3,
      "outputs": []
    },
    {
      "cell_type": "code",
      "source": [
        "files.upload()"
      ],
      "metadata": {
        "colab": {
          "base_uri": "https://localhost:8080/",
          "height": 90
        },
        "id": "8TiiwKr6jfOM",
        "outputId": "574c02ae-72b9-4ea0-9978-4a2198b21735"
      },
      "execution_count": 4,
      "outputs": [
        {
          "output_type": "display_data",
          "data": {
            "text/plain": [
              "<IPython.core.display.HTML object>"
            ],
            "text/html": [
              "\n",
              "     <input type=\"file\" id=\"files-57f7384f-3427-43d8-896c-0d4b6d98366d\" name=\"files[]\" multiple disabled\n",
              "        style=\"border:none\" />\n",
              "     <output id=\"result-57f7384f-3427-43d8-896c-0d4b6d98366d\">\n",
              "      Upload widget is only available when the cell has been executed in the\n",
              "      current browser session. Please rerun this cell to enable.\n",
              "      </output>\n",
              "      <script>// Copyright 2017 Google LLC\n",
              "//\n",
              "// Licensed under the Apache License, Version 2.0 (the \"License\");\n",
              "// you may not use this file except in compliance with the License.\n",
              "// You may obtain a copy of the License at\n",
              "//\n",
              "//      http://www.apache.org/licenses/LICENSE-2.0\n",
              "//\n",
              "// Unless required by applicable law or agreed to in writing, software\n",
              "// distributed under the License is distributed on an \"AS IS\" BASIS,\n",
              "// WITHOUT WARRANTIES OR CONDITIONS OF ANY KIND, either express or implied.\n",
              "// See the License for the specific language governing permissions and\n",
              "// limitations under the License.\n",
              "\n",
              "/**\n",
              " * @fileoverview Helpers for google.colab Python module.\n",
              " */\n",
              "(function(scope) {\n",
              "function span(text, styleAttributes = {}) {\n",
              "  const element = document.createElement('span');\n",
              "  element.textContent = text;\n",
              "  for (const key of Object.keys(styleAttributes)) {\n",
              "    element.style[key] = styleAttributes[key];\n",
              "  }\n",
              "  return element;\n",
              "}\n",
              "\n",
              "// Max number of bytes which will be uploaded at a time.\n",
              "const MAX_PAYLOAD_SIZE = 100 * 1024;\n",
              "\n",
              "function _uploadFiles(inputId, outputId) {\n",
              "  const steps = uploadFilesStep(inputId, outputId);\n",
              "  const outputElement = document.getElementById(outputId);\n",
              "  // Cache steps on the outputElement to make it available for the next call\n",
              "  // to uploadFilesContinue from Python.\n",
              "  outputElement.steps = steps;\n",
              "\n",
              "  return _uploadFilesContinue(outputId);\n",
              "}\n",
              "\n",
              "// This is roughly an async generator (not supported in the browser yet),\n",
              "// where there are multiple asynchronous steps and the Python side is going\n",
              "// to poll for completion of each step.\n",
              "// This uses a Promise to block the python side on completion of each step,\n",
              "// then passes the result of the previous step as the input to the next step.\n",
              "function _uploadFilesContinue(outputId) {\n",
              "  const outputElement = document.getElementById(outputId);\n",
              "  const steps = outputElement.steps;\n",
              "\n",
              "  const next = steps.next(outputElement.lastPromiseValue);\n",
              "  return Promise.resolve(next.value.promise).then((value) => {\n",
              "    // Cache the last promise value to make it available to the next\n",
              "    // step of the generator.\n",
              "    outputElement.lastPromiseValue = value;\n",
              "    return next.value.response;\n",
              "  });\n",
              "}\n",
              "\n",
              "/**\n",
              " * Generator function which is called between each async step of the upload\n",
              " * process.\n",
              " * @param {string} inputId Element ID of the input file picker element.\n",
              " * @param {string} outputId Element ID of the output display.\n",
              " * @return {!Iterable<!Object>} Iterable of next steps.\n",
              " */\n",
              "function* uploadFilesStep(inputId, outputId) {\n",
              "  const inputElement = document.getElementById(inputId);\n",
              "  inputElement.disabled = false;\n",
              "\n",
              "  const outputElement = document.getElementById(outputId);\n",
              "  outputElement.innerHTML = '';\n",
              "\n",
              "  const pickedPromise = new Promise((resolve) => {\n",
              "    inputElement.addEventListener('change', (e) => {\n",
              "      resolve(e.target.files);\n",
              "    });\n",
              "  });\n",
              "\n",
              "  const cancel = document.createElement('button');\n",
              "  inputElement.parentElement.appendChild(cancel);\n",
              "  cancel.textContent = 'Cancel upload';\n",
              "  const cancelPromise = new Promise((resolve) => {\n",
              "    cancel.onclick = () => {\n",
              "      resolve(null);\n",
              "    };\n",
              "  });\n",
              "\n",
              "  // Wait for the user to pick the files.\n",
              "  const files = yield {\n",
              "    promise: Promise.race([pickedPromise, cancelPromise]),\n",
              "    response: {\n",
              "      action: 'starting',\n",
              "    }\n",
              "  };\n",
              "\n",
              "  cancel.remove();\n",
              "\n",
              "  // Disable the input element since further picks are not allowed.\n",
              "  inputElement.disabled = true;\n",
              "\n",
              "  if (!files) {\n",
              "    return {\n",
              "      response: {\n",
              "        action: 'complete',\n",
              "      }\n",
              "    };\n",
              "  }\n",
              "\n",
              "  for (const file of files) {\n",
              "    const li = document.createElement('li');\n",
              "    li.append(span(file.name, {fontWeight: 'bold'}));\n",
              "    li.append(span(\n",
              "        `(${file.type || 'n/a'}) - ${file.size} bytes, ` +\n",
              "        `last modified: ${\n",
              "            file.lastModifiedDate ? file.lastModifiedDate.toLocaleDateString() :\n",
              "                                    'n/a'} - `));\n",
              "    const percent = span('0% done');\n",
              "    li.appendChild(percent);\n",
              "\n",
              "    outputElement.appendChild(li);\n",
              "\n",
              "    const fileDataPromise = new Promise((resolve) => {\n",
              "      const reader = new FileReader();\n",
              "      reader.onload = (e) => {\n",
              "        resolve(e.target.result);\n",
              "      };\n",
              "      reader.readAsArrayBuffer(file);\n",
              "    });\n",
              "    // Wait for the data to be ready.\n",
              "    let fileData = yield {\n",
              "      promise: fileDataPromise,\n",
              "      response: {\n",
              "        action: 'continue',\n",
              "      }\n",
              "    };\n",
              "\n",
              "    // Use a chunked sending to avoid message size limits. See b/62115660.\n",
              "    let position = 0;\n",
              "    do {\n",
              "      const length = Math.min(fileData.byteLength - position, MAX_PAYLOAD_SIZE);\n",
              "      const chunk = new Uint8Array(fileData, position, length);\n",
              "      position += length;\n",
              "\n",
              "      const base64 = btoa(String.fromCharCode.apply(null, chunk));\n",
              "      yield {\n",
              "        response: {\n",
              "          action: 'append',\n",
              "          file: file.name,\n",
              "          data: base64,\n",
              "        },\n",
              "      };\n",
              "\n",
              "      let percentDone = fileData.byteLength === 0 ?\n",
              "          100 :\n",
              "          Math.round((position / fileData.byteLength) * 100);\n",
              "      percent.textContent = `${percentDone}% done`;\n",
              "\n",
              "    } while (position < fileData.byteLength);\n",
              "  }\n",
              "\n",
              "  // All done.\n",
              "  yield {\n",
              "    response: {\n",
              "      action: 'complete',\n",
              "    }\n",
              "  };\n",
              "}\n",
              "\n",
              "scope.google = scope.google || {};\n",
              "scope.google.colab = scope.google.colab || {};\n",
              "scope.google.colab._files = {\n",
              "  _uploadFiles,\n",
              "  _uploadFilesContinue,\n",
              "};\n",
              "})(self);\n",
              "</script> "
            ]
          },
          "metadata": {}
        },
        {
          "output_type": "stream",
          "name": "stdout",
          "text": [
            "Saving kaggle (1).json to kaggle (1).json\n"
          ]
        },
        {
          "output_type": "execute_result",
          "data": {
            "text/plain": [
              "{'kaggle (1).json': b'{\"username\":\"shehriaralikhan\",\"key\":\"74d41d4df0882d29a33fe2d3bb5e1c99\"}'}"
            ]
          },
          "metadata": {},
          "execution_count": 4
        }
      ]
    },
    {
      "cell_type": "code",
      "source": [
        "!mkdir ~/.kaggle"
      ],
      "metadata": {
        "id": "TXrpFWcqj-6_"
      },
      "execution_count": 5,
      "outputs": []
    },
    {
      "cell_type": "code",
      "source": [
        "!kaggle datasets download -d vuppalaadithyasairam/ultrasound-breast-images-for-breast-cancer"
      ],
      "metadata": {
        "colab": {
          "base_uri": "https://localhost:8080/"
        },
        "id": "LZjpw5sIkFAD",
        "outputId": "fc25cba1-98fc-4fad-b689-94e29cf14132"
      },
      "execution_count": 6,
      "outputs": [
        {
          "output_type": "stream",
          "name": "stdout",
          "text": [
            "Dataset URL: https://www.kaggle.com/datasets/vuppalaadithyasairam/ultrasound-breast-images-for-breast-cancer\n",
            "License(s): CC0-1.0\n",
            "Downloading ultrasound-breast-images-for-breast-cancer.zip to /content\n",
            "100% 564M/564M [00:20<00:00, 37.9MB/s]\n",
            "100% 564M/564M [00:20<00:00, 29.3MB/s]\n"
          ]
        }
      ]
    },
    {
      "cell_type": "code",
      "source": [
        "!unzip -q /content/ultrasound-breast-images-for-breast-cancer.zip"
      ],
      "metadata": {
        "id": "iHmkpSv1kKC6"
      },
      "execution_count": 7,
      "outputs": []
    },
    {
      "cell_type": "code",
      "source": [],
      "metadata": {
        "id": "ktjMMKaPkP03"
      },
      "execution_count": 7,
      "outputs": []
    },
    {
      "cell_type": "markdown",
      "source": [
        "# Setting the Dataset into training and validation"
      ],
      "metadata": {
        "id": "rqv8wnevkkls"
      }
    },
    {
      "cell_type": "code",
      "source": [
        "# setting the training data\n",
        "training_data = keras.utils.image_dataset_from_directory(\n",
        "    directory = '/content/ultrasound breast classification/train',\n",
        "    label_mode = 'int',\n",
        "    batch_size = 32,\n",
        "    image_size = (256,256)\n",
        ")\n",
        "\n",
        "#setting the validation data\n",
        "validation_data = keras.utils.image_dataset_from_directory(\n",
        "    directory = '/content/ultrasound breast classification/val',\n",
        "    label_mode = 'int',\n",
        "    batch_size = 32,\n",
        "    image_size = (256,256)\n",
        ")"
      ],
      "metadata": {
        "colab": {
          "base_uri": "https://localhost:8080/"
        },
        "id": "LE7wRef_kpkl",
        "outputId": "7478089f-5362-4808-c9e9-680895d7b96c"
      },
      "execution_count": 8,
      "outputs": [
        {
          "output_type": "stream",
          "name": "stdout",
          "text": [
            "Found 8116 files belonging to 2 classes.\n",
            "Found 900 files belonging to 2 classes.\n"
          ]
        }
      ]
    },
    {
      "cell_type": "markdown",
      "source": [
        "# Creating Custom Model using keras tuner"
      ],
      "metadata": {
        "id": "Et6nKO2Ill9A"
      }
    },
    {
      "cell_type": "code",
      "source": [
        "!pip install keras-tuner"
      ],
      "metadata": {
        "colab": {
          "base_uri": "https://localhost:8080/"
        },
        "id": "KWmiOH2pmQbE",
        "outputId": "da5bbe8f-2819-47de-da6d-5931c8131efd"
      },
      "execution_count": 9,
      "outputs": [
        {
          "output_type": "stream",
          "name": "stdout",
          "text": [
            "Collecting keras-tuner\n",
            "  Downloading keras_tuner-1.4.7-py3-none-any.whl (129 kB)\n",
            "\u001b[?25l     \u001b[90m━━━━━━━━━━━━━━━━━━━━━━━━━━━━━━━━━━━━━━━━\u001b[0m \u001b[32m0.0/129.1 kB\u001b[0m \u001b[31m?\u001b[0m eta \u001b[36m-:--:--\u001b[0m\r\u001b[2K     \u001b[90m━━━━━━━━━━━━━━━━━━━━━━━━━━━━━━━━━━━━━━━━\u001b[0m \u001b[32m129.1/129.1 kB\u001b[0m \u001b[31m4.6 MB/s\u001b[0m eta \u001b[36m0:00:00\u001b[0m\n",
            "\u001b[?25hRequirement already satisfied: keras in /usr/local/lib/python3.10/dist-packages (from keras-tuner) (2.15.0)\n",
            "Requirement already satisfied: packaging in /usr/local/lib/python3.10/dist-packages (from keras-tuner) (24.0)\n",
            "Requirement already satisfied: requests in /usr/local/lib/python3.10/dist-packages (from keras-tuner) (2.31.0)\n",
            "Collecting kt-legacy (from keras-tuner)\n",
            "  Downloading kt_legacy-1.0.5-py3-none-any.whl (9.6 kB)\n",
            "Requirement already satisfied: charset-normalizer<4,>=2 in /usr/local/lib/python3.10/dist-packages (from requests->keras-tuner) (3.3.2)\n",
            "Requirement already satisfied: idna<4,>=2.5 in /usr/local/lib/python3.10/dist-packages (from requests->keras-tuner) (3.7)\n",
            "Requirement already satisfied: urllib3<3,>=1.21.1 in /usr/local/lib/python3.10/dist-packages (from requests->keras-tuner) (2.0.7)\n",
            "Requirement already satisfied: certifi>=2017.4.17 in /usr/local/lib/python3.10/dist-packages (from requests->keras-tuner) (2024.2.2)\n",
            "Installing collected packages: kt-legacy, keras-tuner\n",
            "Successfully installed keras-tuner-1.4.7 kt-legacy-1.0.5\n"
          ]
        }
      ]
    },
    {
      "cell_type": "code",
      "source": [
        "from keras.models import Sequential\n",
        "from keras.layers import Conv2D,MaxPooling2D,Flatten,Dense,BatchNormalization,Dropout\n",
        "from kerastuner.tuners import RandomSearch"
      ],
      "metadata": {
        "id": "qQxtShvYlVzg"
      },
      "execution_count": 55,
      "outputs": []
    },
    {
      "cell_type": "code",
      "source": [
        "def build_model(hp):\n",
        "  model = Sequential()\n",
        "\n",
        "  for i in range(hp.Int('conv_num_layer', 1,10)):\n",
        "    model.add(Conv2D(\n",
        "              filters =  hp.Int(f'conv_layer{i}',min_value=32,max_value=128,step=16),\n",
        "              kernel_size = (2,2),\n",
        "              strides = (2,2),\n",
        "              padding = 'same',\n",
        "              activation = hp.Choice(f'activation{i}',values = ['sigmoid','relu','tanh']\n",
        "                )\n",
        "              )\n",
        "            )\n",
        "    model.add(MaxPooling2D(pool_size=(1,1)))\n",
        "    model.add(BatchNormalization())\n",
        "\n",
        "  # add the flatten layer\n",
        "  model.add(Flatten())\n",
        "\n",
        "  # add dense layer now\n",
        "  for i in range(hp.Int('dense_num_layer',1,10)):\n",
        "    model.add(Dense(\n",
        "                     units = hp.Int(f'dense_layer{i}',min_value = 32,max_value = 512,step=32),\n",
        "                     activation = hp.Choice(f'dense_activation_{i}',values = ['sigmoid','tanh','relu']\n",
        "                      )\n",
        "                  )\n",
        "              )\n",
        "    model.add(Dropout(0.3))\n",
        "  # add the output layer here\n",
        "  model.add(Dense(1,activation='sigmoid'))\n",
        "\n",
        "  # compile the model\n",
        "  optimizer = hp.Choice('optimizer',values=['rmsprop','adam','sgd'])\n",
        "  model.compile(optimizer=optimizer,loss='binary_crossentropy',metrics=['accuracy'])\n",
        "\n",
        "  #return the model\n",
        "  return model"
      ],
      "metadata": {
        "id": "v_hjpl3fmCU7"
      },
      "execution_count": 63,
      "outputs": []
    },
    {
      "cell_type": "code",
      "source": [
        "tuner = RandomSearch(\n",
        "    build_model,\n",
        "    objective = 'val_accuracy',\n",
        "    max_trials = 5,\n",
        "    directory = '/content/history_of_model',\n",
        "    project_name = 'first_observation'\n",
        ")"
      ],
      "metadata": {
        "colab": {
          "base_uri": "https://localhost:8080/"
        },
        "id": "oK4_fP1_q6WV",
        "outputId": "780b531b-1529-4d5b-fdbe-5e69f5c95736"
      },
      "execution_count": 64,
      "outputs": [
        {
          "output_type": "stream",
          "name": "stdout",
          "text": [
            "Reloading Tuner from /content/history_of_model/first_observation/tuner0.json\n"
          ]
        }
      ]
    },
    {
      "cell_type": "code",
      "source": [
        "tuner.search(training_data,validation_data = validation_data,epochs=10)"
      ],
      "metadata": {
        "id": "cbJHtINUrr2C"
      },
      "execution_count": 65,
      "outputs": []
    },
    {
      "cell_type": "code",
      "source": [
        "best_hp = tuner.get_best_hyperparameters(num_trials=1)[0]"
      ],
      "metadata": {
        "id": "9cmWsNxdsloK"
      },
      "execution_count": 66,
      "outputs": []
    },
    {
      "cell_type": "code",
      "source": [
        "print('Best Hyperparameter')\n",
        "print(best_hp.values)"
      ],
      "metadata": {
        "colab": {
          "base_uri": "https://localhost:8080/"
        },
        "id": "YRzSa5Re2V-I",
        "outputId": "9e98e95c-27ed-4a9f-b182-9d591623c3af"
      },
      "execution_count": 67,
      "outputs": [
        {
          "output_type": "stream",
          "name": "stdout",
          "text": [
            "Best Hyperparameter\n",
            "{'conv_num_layer': 9, 'conv_layer0': 112, 'activation0': 'relu', 'dense_num_layer': 4, 'dense_layer0': 96, 'dense_activation_0': 'relu', 'optimizer': 'adam', 'conv_layer1': 80, 'activation1': 'relu', 'conv_layer2': 128, 'activation2': 'sigmoid', 'conv_layer3': 80, 'activation3': 'tanh', 'conv_layer4': 64, 'activation4': 'relu', 'conv_layer5': 48, 'activation5': 'relu', 'conv_layer6': 112, 'activation6': 'relu', 'conv_layer7': 48, 'activation7': 'relu', 'dense_layer1': 224, 'dense_activation_1': 'relu', 'dense_layer2': 256, 'dense_activation_2': 'relu', 'dense_layer3': 256, 'dense_activation_3': 'sigmoid', 'dense_layer4': 96, 'dense_activation_4': 'tanh', 'dense_layer5': 192, 'dense_activation_5': 'tanh', 'dense_layer6': 32, 'dense_activation_6': 'tanh', 'dense_layer7': 352, 'dense_activation_7': 'relu', 'conv_layer8': 32, 'activation8': 'sigmoid'}\n"
          ]
        }
      ]
    },
    {
      "cell_type": "code",
      "source": [
        "best_model = tuner.hypermodel.build(best_hp)"
      ],
      "metadata": {
        "id": "cIo32txm2eKM"
      },
      "execution_count": 68,
      "outputs": []
    },
    {
      "cell_type": "code",
      "source": [
        "best_model.fit(training_data,validation_data = validation_data,epochs=10)"
      ],
      "metadata": {
        "colab": {
          "base_uri": "https://localhost:8080/"
        },
        "id": "oISiMtKJ3D27",
        "outputId": "31699512-c3a3-4046-add5-22ac33fe8e21"
      },
      "execution_count": 69,
      "outputs": [
        {
          "output_type": "stream",
          "name": "stdout",
          "text": [
            "Epoch 1/10\n",
            "254/254 [==============================] - 33s 100ms/step - loss: 0.4561 - accuracy: 0.7774 - val_loss: 0.6251 - val_accuracy: 0.7378\n",
            "Epoch 2/10\n",
            "254/254 [==============================] - 23s 89ms/step - loss: 0.2392 - accuracy: 0.9051 - val_loss: 0.6788 - val_accuracy: 0.7833\n",
            "Epoch 3/10\n",
            "254/254 [==============================] - 27s 104ms/step - loss: 0.1636 - accuracy: 0.9375 - val_loss: 0.9909 - val_accuracy: 0.7189\n",
            "Epoch 4/10\n",
            "254/254 [==============================] - 25s 97ms/step - loss: 0.1161 - accuracy: 0.9564 - val_loss: 0.6966 - val_accuracy: 0.8544\n",
            "Epoch 5/10\n",
            "254/254 [==============================] - 25s 97ms/step - loss: 0.1051 - accuracy: 0.9600 - val_loss: 0.9345 - val_accuracy: 0.7367\n",
            "Epoch 6/10\n",
            "254/254 [==============================] - 23s 91ms/step - loss: 0.0862 - accuracy: 0.9680 - val_loss: 0.8437 - val_accuracy: 0.7844\n",
            "Epoch 7/10\n",
            "254/254 [==============================] - 24s 94ms/step - loss: 0.0816 - accuracy: 0.9723 - val_loss: 0.8337 - val_accuracy: 0.7578\n",
            "Epoch 9/10\n",
            "254/254 [==============================] - 25s 94ms/step - loss: 0.0550 - accuracy: 0.9800 - val_loss: 1.2020 - val_accuracy: 0.7389\n",
            "Epoch 10/10\n",
            "254/254 [==============================] - 25s 97ms/step - loss: 0.0518 - accuracy: 0.9788 - val_loss: 1.3447 - val_accuracy: 0.7100\n"
          ]
        },
        {
          "output_type": "execute_result",
          "data": {
            "text/plain": [
              "<keras.src.callbacks.History at 0x781ac5f1bdc0>"
            ]
          },
          "metadata": {},
          "execution_count": 69
        }
      ]
    },
    {
      "cell_type": "code",
      "source": [],
      "metadata": {
        "id": "NfYIg-iT3Mev"
      },
      "execution_count": null,
      "outputs": []
    }
  ]
}